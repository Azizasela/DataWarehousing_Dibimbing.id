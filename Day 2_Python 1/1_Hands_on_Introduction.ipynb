{
  "nbformat": 4,
  "nbformat_minor": 0,
  "metadata": {
    "colab": {
      "provenance": []
    },
    "kernelspec": {
      "name": "python3",
      "display_name": "Python 3"
    },
    "language_info": {
      "name": "python"
    }
  },
  "cells": [
    {
      "cell_type": "markdown",
      "source": [
        "# Introduction to Python\n",
        "\n",
        "**Covered Topics**\n",
        "- Basic Syntax in Python\n",
        "- Data Structure in Python\n",
        "- Function in Python"
      ],
      "metadata": {
        "id": "yy5Pw1g4Qy3a"
      }
    },
    {
      "cell_type": "code",
      "source": [
        "# Variable Assignment\n",
        "nama = \"Luhut\"\n",
        "umur = \"20\"\n",
        "\n",
        "nama"
      ],
      "metadata": {
        "id": "W5Ip0IDYqGkw",
        "colab": {
          "base_uri": "https://localhost:8080/",
          "height": 36
        },
        "outputId": "4d8fbccf-9e2b-4c14-c703-3fada77daa79"
      },
      "execution_count": null,
      "outputs": [
        {
          "output_type": "execute_result",
          "data": {
            "text/plain": [
              "'Luhut'"
            ],
            "application/vnd.google.colaboratory.intrinsic+json": {
              "type": "string"
            }
          },
          "metadata": {},
          "execution_count": 1
        }
      ]
    },
    {
      "cell_type": "code",
      "source": [
        "# Print Function\n",
        "print(nama)"
      ],
      "metadata": {
        "id": "iUDATfecqKoW",
        "colab": {
          "base_uri": "https://localhost:8080/"
        },
        "outputId": "4cdbed3a-c3d9-4f25-a0cb-26a5dd7b6646"
      },
      "execution_count": null,
      "outputs": [
        {
          "output_type": "stream",
          "name": "stdout",
          "text": [
            "Luhut\n"
          ]
        }
      ]
    },
    {
      "cell_type": "code",
      "source": [
        "# concat string\n",
        "print(\"Hai, nama saya\",nama,\", umur saya \",umur)\n",
        "\n",
        "# string formatting\n",
        "print(f\"Hai, nama saya {nama}, umur saya {umur}\")\n",
        "\n",
        "# print(\"Hai, nama saya Luhut, umur saya 20\")"
      ],
      "metadata": {
        "id": "G7-78_R4qHIs",
        "colab": {
          "base_uri": "https://localhost:8080/"
        },
        "outputId": "a02b3e57-63b6-46e7-cdf2-aaa72c26bbea"
      },
      "execution_count": null,
      "outputs": [
        {
          "output_type": "stream",
          "name": "stdout",
          "text": [
            "Hai, nama saya Luhut , umur saya  20\n",
            "Hai, nama saya Luhut, umur saya 20\n"
          ]
        }
      ]
    },
    {
      "cell_type": "code",
      "source": [
        "# Conditional Statement with Multiple IF\n",
        "\n",
        "nilai = 25\n",
        "\n",
        "if nilai >= 75:\n",
        "  hasil = \"tidak lulus\"\n",
        "elif nilai >= 50:\n",
        "  hasil = \"lulus\"\n",
        "else:\n",
        "  hasil = \"remedial\"\n",
        "\n",
        "hasil"
      ],
      "metadata": {
        "id": "P0NJw1srQm-V",
        "colab": {
          "base_uri": "https://localhost:8080/",
          "height": 36
        },
        "outputId": "7b536dcb-3572-4879-91a0-7fd22bdd95f1"
      },
      "execution_count": null,
      "outputs": [
        {
          "output_type": "execute_result",
          "data": {
            "text/plain": [
              "'remedial'"
            ],
            "application/vnd.google.colaboratory.intrinsic+json": {
              "type": "string"
            }
          },
          "metadata": {},
          "execution_count": 7
        }
      ]
    },
    {
      "cell_type": "code",
      "source": [
        "# Conditional Statement with Nested IF\n",
        "num = -5\n",
        "if num >= 0:\n",
        "  print(\"ini test\")\n",
        "  if num == 0:\n",
        "      print(\"nol\")\n",
        "  else:\n",
        "      print(\"Positif\")\n",
        "else:\n",
        "    print(\"Negatif\")"
      ],
      "metadata": {
        "id": "qtuxbMH1QoG9",
        "colab": {
          "base_uri": "https://localhost:8080/"
        },
        "outputId": "db7aa5f9-354b-4d9d-8ff3-afdd02df6890"
      },
      "execution_count": null,
      "outputs": [
        {
          "output_type": "stream",
          "name": "stdout",
          "text": [
            "Negatif\n"
          ]
        }
      ]
    },
    {
      "cell_type": "code",
      "source": [
        "for i in range(6):\n",
        "  print(f\"i sekarang adalah {i}\")"
      ],
      "metadata": {
        "id": "W6dCLX88QoOx",
        "colab": {
          "base_uri": "https://localhost:8080/"
        },
        "outputId": "7aba51f9-db6a-40bb-b92c-a0adbe4665ef"
      },
      "execution_count": null,
      "outputs": [
        {
          "output_type": "stream",
          "name": "stdout",
          "text": [
            "i sekarang adalah 0\n",
            "i sekarang adalah 1\n",
            "i sekarang adalah 2\n",
            "i sekarang adalah 3\n",
            "i sekarang adalah 4\n",
            "i sekarang adalah 5\n"
          ]
        }
      ]
    },
    {
      "cell_type": "code",
      "source": [
        "kumpulan_angka = list(range(6))\n",
        "print(kumpulan_angka)"
      ],
      "metadata": {
        "id": "ibvAc-2KQoRW",
        "colab": {
          "base_uri": "https://localhost:8080/"
        },
        "outputId": "06082578-683b-4404-e9f5-e15db262c540"
      },
      "execution_count": null,
      "outputs": [
        {
          "output_type": "stream",
          "name": "stdout",
          "text": [
            "[0, 1, 2, 3, 4, 5]\n"
          ]
        }
      ]
    },
    {
      "cell_type": "code",
      "source": [
        "for i in range(6):\n",
        "  print(f\"i sekarang adalah {i}\")"
      ],
      "metadata": {
        "id": "hUEdYOOfQoTt",
        "colab": {
          "base_uri": "https://localhost:8080/"
        },
        "outputId": "e1c67730-4ade-42cf-c425-1a4fe3fc8f66"
      },
      "execution_count": null,
      "outputs": [
        {
          "output_type": "stream",
          "name": "stdout",
          "text": [
            "i sekarang adalah 0\n",
            "i sekarang adalah 1\n",
            "i sekarang adalah 2\n",
            "i sekarang adalah 3\n",
            "i sekarang adalah 4\n",
            "i sekarang adalah 5\n"
          ]
        }
      ]
    },
    {
      "cell_type": "code",
      "source": [
        "for i in range(6):\n",
        "  print(f\"i sekarang adalah {i}, dikali 7 hasilnya, {i*7}\")"
      ],
      "metadata": {
        "id": "ePJ8nCMPmip1",
        "colab": {
          "base_uri": "https://localhost:8080/"
        },
        "outputId": "3d349f0c-f59e-4b56-820a-dacc85418aff"
      },
      "execution_count": null,
      "outputs": [
        {
          "output_type": "stream",
          "name": "stdout",
          "text": [
            "i sekarang adalah 0, dikali 7 hasilnya, 0\n",
            "i sekarang adalah 1, dikali 7 hasilnya, 7\n",
            "i sekarang adalah 2, dikali 7 hasilnya, 14\n",
            "i sekarang adalah 3, dikali 7 hasilnya, 21\n",
            "i sekarang adalah 4, dikali 7 hasilnya, 28\n",
            "i sekarang adalah 5, dikali 7 hasilnya, 35\n"
          ]
        }
      ]
    },
    {
      "cell_type": "code",
      "source": [
        "for i in range(6):\n",
        "  perkalian_7 = i*7\n",
        "  print(f\"i sekarang adalah {i}, dikali 7 hasilnya, {perkalian_7}\")\n",
        "  if perkalian_7 >= 25:\n",
        "    print(f\"hasil perkalian lebih dari 25, yaitu {perkalian_7}\")\n",
        "  else:\n",
        "    print(\"bebas deh\")"
      ],
      "metadata": {
        "id": "DYqJASbTm5oH",
        "colab": {
          "base_uri": "https://localhost:8080/"
        },
        "outputId": "e32a9c30-59f2-4d1e-e5cd-88461a0e6785"
      },
      "execution_count": null,
      "outputs": [
        {
          "output_type": "stream",
          "name": "stdout",
          "text": [
            "i sekarang adalah 0, dikali 7 hasilnya, 0\n",
            "bebas deh\n",
            "i sekarang adalah 1, dikali 7 hasilnya, 7\n",
            "bebas deh\n",
            "i sekarang adalah 2, dikali 7 hasilnya, 14\n",
            "bebas deh\n",
            "i sekarang adalah 3, dikali 7 hasilnya, 21\n",
            "bebas deh\n",
            "i sekarang adalah 4, dikali 7 hasilnya, 28\n",
            "hasil perkalian lebih dari 25, yaitu 28\n",
            "i sekarang adalah 5, dikali 7 hasilnya, 35\n",
            "hasil perkalian lebih dari 25, yaitu 35\n"
          ]
        }
      ]
    },
    {
      "cell_type": "markdown",
      "source": [
        "## 2. Data Type in Python"
      ],
      "metadata": {
        "id": "kFKeUp91Rc_w"
      }
    },
    {
      "cell_type": "markdown",
      "source": [
        "| Kategori | Tipe | Keterangan | Contoh Kode Python |\n",
        "| ----------- | ----------- | ----------- | ----------- |\n",
        "| Text | str | Menyatakan karakter/kalimat bisa berupa huruf angka, dll (diapit dengan \" atau ') | \"Python Lang\" |\n",
        "| Numeric | int | Menyatakan bilangan bulat | 11 atau 55 |\n",
        "| Numeric | float | Menyatakan bilangan yang mempunyai koma | 3.99 atau 3.24 |\n",
        "| Boolean | bool | Menyatakan benar True atau salah False | True atau False |"
      ],
      "metadata": {
        "id": "DrU4abr1Rb8X"
      }
    },
    {
      "cell_type": "markdown",
      "source": [
        "### String Operations 1\n",
        "\n",
        "| Simbol | Keterangan | Contoh Kode Python |\n",
        "| ----------- | ----------- | ----------- |\n",
        "| a + b | Pertambahan | \"a\" + \"b\" == \"ab\" |\n",
        "| a + b | Pertambahan | \"1\" + \"1\" == \"11\" |\n",
        "| a * b | Perkalian | \"wk\" * 2 == \"wkwk\" |\n",
        "| a[start:end] | Irisan | \"abcd\"[1:3] == \"bc |\n",
        "| a[::-1] | Penulisan dibalik | \"abcd\"[::-1] == \"dcba\" |\n",
        "\n",
        "<center>Penulisan string di python bisa menggunakan '', atau \"\", atau juga \"\"\" \"\"\" untuk teks yang panjang</center>\n"
      ],
      "metadata": {
        "id": "vhy2hRc7Rrvb"
      }
    },
    {
      "cell_type": "code",
      "source": [
        "\"wk\" * 2"
      ],
      "metadata": {
        "id": "JwpeeX6A-3Sh",
        "colab": {
          "base_uri": "https://localhost:8080/",
          "height": 36
        },
        "outputId": "d6453c2e-51f9-4915-dace-b538075a845b"
      },
      "execution_count": null,
      "outputs": [
        {
          "output_type": "execute_result",
          "data": {
            "text/plain": [
              "'wkwk'"
            ],
            "application/vnd.google.colaboratory.intrinsic+json": {
              "type": "string"
            }
          },
          "metadata": {},
          "execution_count": 17
        }
      ]
    },
    {
      "cell_type": "markdown",
      "source": [
        "Tentang Index di String Python\n",
        "\n",
        "| String | b | a | m | b | a | n | g |\n",
        "| -- | -- | -- | -- | -- | -- | -- | -- |\n",
        "| Index | 0 | 1 | 2 | 3 | 4 | 5 | 6 |\n",
        "\n",
        "<p></p>\n",
        "<center>Untuk slicing rumusnya <b>variable</b>[index mulai:index akhir], cara baca <b>index akhir</b> ini selalu dikurangin 1.\n",
        "<p></p>    \n",
        "Misal index mulai 2, index akhir 5, artinya kita ngambil urutan dari 2 sampai sebelum 5, yaitu 4, jadinya kita dapatkan pada index <b>2,3,4</b></center>"
      ],
      "metadata": {
        "id": "yxLOXJgERx3z"
      }
    },
    {
      "cell_type": "code",
      "source": [
        "# Try string slicing operation\n",
        "\n",
        "nama = \"bambang\"\n",
        "# String = b | a | m | b | a | n | g\n",
        "# Index = 0 | 1 | 2 | 3 | 4 | 5 | 6\n",
        "\n",
        "# Start index is 2, end index is 5\n",
        "# Meaning that we take indices 2,3, and 4 (before 5)\n",
        "print(nama[2:5])\n",
        "\n",
        "# Start index is empty, end index is 3\n",
        "# Meaning that we take everything from beginning, ends at 2 (before 3)\n",
        "print(nama[:3])\n",
        "\n",
        "# Start index is 2, end index is empty\n",
        "# Meaning that we start from index 2, and take everything till the end\n",
        "print(nama[2:])"
      ],
      "metadata": {
        "id": "CDJrM3caQoWm",
        "colab": {
          "base_uri": "https://localhost:8080/"
        },
        "outputId": "0fc5465d-b149-456a-a264-26102a0818c2"
      },
      "execution_count": null,
      "outputs": [
        {
          "output_type": "stream",
          "name": "stdout",
          "text": [
            "mba\n",
            "bam\n",
            "mbang\n"
          ]
        }
      ]
    },
    {
      "cell_type": "markdown",
      "source": [
        "### String Operations 2\n",
        "\n",
        "| Simbol | Keterangan | Contoh Kode Python |\n",
        "| ----------- | ----------- | ----------- |\n",
        "| a.upper() | Konversi menjadi huruf besar | \"saya\".upper() == \"SAYA\"\n",
        "| a.lower() | Konversi menjadi huruf kecil | \"KaMu\".lower() == \"kamu\"\n",
        "| a.isdigit() | Membaca apakah string ini angka atau bukan | \"5\".isdigit() == True\n",
        "| a.replace(before,after) | Mereplace string di variabel A berdasarkan before dan after | \"hai\".replace(\"ha\",\"wk\") == \"wki\"\n",
        "| a.split(b) | Pisahkan variabel A berdasarkan variabel B | \"aku,kamu,kita\".split(\",\") == [\"aku\", \"kamu\", \"kita\"]\n",
        "| sorted(a) | Mengurutkan variabel A secara ascending | sorted([1,5,2]) == [1,2,5] |\n",
        "\n",
        "\n",
        "<p></p>\n",
        "<center><a href=\"https://docs.python.org/3/library/stdtypes.html#string-methods\">\n",
        "    <button>Klik disini untuk String Manipulation Details</button>\n",
        "</a></center>"
      ],
      "metadata": {
        "id": "iuCv5ItpR8lu"
      }
    },
    {
      "cell_type": "code",
      "source": [
        "# Try string operation 2\n",
        "\n",
        "# Mereplace string di variabel A berdasarkan before dan after\n",
        "# Ubah \"Pisang Goreng!\" menjadi \"Hisang Horeng!\"\n",
        "str_val = \"Pisang Goreng!\"\n",
        "str_val = str_val.replace(\"P\", \"H\")\n",
        "print(str_val)\n",
        "str_val = str_val.replace(\"G\", \"H\")\n",
        "print(str_val)"
      ],
      "metadata": {
        "id": "LIKhWOmSQoY6",
        "colab": {
          "base_uri": "https://localhost:8080/"
        },
        "outputId": "b714c291-b17e-460a-fb97-556bcb884a1e"
      },
      "execution_count": null,
      "outputs": [
        {
          "output_type": "stream",
          "name": "stdout",
          "text": [
            "Hisang Goreng!\n",
            "Hisang Horeng!\n"
          ]
        }
      ]
    },
    {
      "cell_type": "code",
      "source": [
        "str_val = str_val.replace(\"s\", \"h\")\n",
        "str_val = str_val.replace(\"r\", \"h\")\n",
        "print(str_val)"
      ],
      "metadata": {
        "id": "aJgGBb37_3Go",
        "colab": {
          "base_uri": "https://localhost:8080/"
        },
        "outputId": "b472918e-8e2b-40e7-d3a4-4c2634540e85"
      },
      "execution_count": null,
      "outputs": [
        {
          "output_type": "stream",
          "name": "stdout",
          "text": [
            "Hihang Hoheng!\n"
          ]
        }
      ]
    },
    {
      "cell_type": "code",
      "source": [
        "# Split by comma \",\"\n",
        "str_val = \"SPONTAN, UHUY!\"\n",
        "print(str_val.split(\",\"))"
      ],
      "metadata": {
        "id": "yALH5zZ5Qoby",
        "colab": {
          "base_uri": "https://localhost:8080/"
        },
        "outputId": "165571f7-7b27-4edf-80e8-fa9ca655e37e"
      },
      "execution_count": null,
      "outputs": [
        {
          "output_type": "stream",
          "name": "stdout",
          "text": [
            "['SPONTAN', ' UHUY!']\n"
          ]
        }
      ]
    },
    {
      "cell_type": "code",
      "source": [
        "# Split by spasi \" \"\n",
        "str_val = \"SPONTAN, UHUY!\"\n",
        "print(str_val.split(\" \"))"
      ],
      "metadata": {
        "id": "gzUBiMuaQoeY",
        "colab": {
          "base_uri": "https://localhost:8080/"
        },
        "outputId": "414832fe-2522-4ce8-e67f-33378ccee0ca"
      },
      "execution_count": null,
      "outputs": [
        {
          "output_type": "stream",
          "name": "stdout",
          "text": [
            "['SPONTAN,', 'UHUY!']\n"
          ]
        }
      ]
    },
    {
      "cell_type": "code",
      "source": [
        "str_val = \"SPONTAN, UHUY!\"\n",
        "print(str_val.split(\"U\"))"
      ],
      "metadata": {
        "id": "oiZ6a7YQBFYn",
        "colab": {
          "base_uri": "https://localhost:8080/"
        },
        "outputId": "0cf6da6d-96a8-4e0f-b813-a5de450e9083"
      },
      "execution_count": null,
      "outputs": [
        {
          "output_type": "stream",
          "name": "stdout",
          "text": [
            "['SPONTAN, ', 'H', 'Y!']\n"
          ]
        }
      ]
    },
    {
      "cell_type": "markdown",
      "source": [
        "## 3. Data Structure in Python\n",
        "\n",
        "| Kategori | Tipe | Keterangan | Contoh Kode Python |\n",
        "| ----------- | ----------- | ----------- | ----------- |\n",
        "| Sequence | list | Menyatakan beberapa untaian data dalam berbagai tipe data dan isinya bisa diubah-ubah (mutable) | [\"Air\", 21, True] |\n",
        "| Sequence | tuple | Menyatakan beberapa untaian data dalam berbagai tipe data namun isinya tidak bisa diubah-ubah (immutable) | (\"Air\", 21, True) |\n",
        "| Mapping | dict | Menyatakan beberapa untaian data dalam berbagai tipe data dan memiliki key/petujuntuk dalam menyimpan setiap nilai nya | {\"nama\":\"Lutfi\", \"umur\": 28} |\n",
        "| Set | set | Menyatakan beberapa untaian data dalam berbagai tipe data, setiap nilainya bernilai unik, dan tidak berurutan | {\"Jakarta\", \"Bandung\", \"Bekasi\"} |"
      ],
      "metadata": {
        "id": "45g0gZ1tSm7W"
      }
    },
    {
      "cell_type": "markdown",
      "source": [
        "### List in Python\n",
        "\n",
        "Sistem indexing nya sama dengan yang di string, dimulai dari indeks 0, dan bisa diisi oleh tipe data apapun\n",
        "\n",
        "<img src=\"https://pynative.com/wp-content/uploads/2021/03/python-list.jpg\">\n",
        "\n",
        "| Slicing | Makna |\n",
        "| --- | --- |\n",
        "| `[:]` | Mengambil seluruh index, tiada batasan |\n",
        "| `[n:]` | Mengambil dari index ke-n sampai index terakhir |\n",
        "| `[:m]` | Mengambil dari index pertama sampai index ke-m |\n",
        "| `[n:m]` | Mengambil dari index ke-n hingga index ke-m |\n",
        "| `[-1]` | Mengambil index terakhir |\n",
        "| `[:-1]` | Mengambil index dari pertama sampai sebelum terakhir (selain index -1)|\n",
        "| `[-1:]` | Mengambil index dari dari belakang (satu index)|"
      ],
      "metadata": {
        "id": "CK53s5XySqI0"
      }
    },
    {
      "cell_type": "code",
      "source": [
        "# in R we could say this is a 'vector'\n",
        "# ini_vector = c(1,2,3,\"test\",c(4,5,6))\n",
        "\n",
        "# in Python we called it as 'list'\n",
        "# ini_list = [1,2,3,\"test\",[4,5,6]]\n",
        "\n",
        "# First List Operation\n",
        "list_pertama = [1,2,3]\n",
        "\n",
        "print(\"Mengambil value urutan PERTAMA:\", list_pertama[0])\n",
        "print(\"Mengambil value urutan KEDUA:\", list_pertama[1])\n",
        "print(\"Mengambil value urutan KETIGA:\", list_pertama[2])\n",
        "\n",
        "print(\"==== katanya biar ada pembatas diantara kita =====\")\n",
        "\n",
        "# Second List Operation\n",
        "list_kedua = [100,\"Katanya integer aja?\", True, 100.549373]\n",
        "print(\"Saya mau ambil urutan kedua:\", list_kedua[1])\n",
        "print(\"Saya mau ambil urutan terakhir/keempat:\",list_kedua[3])"
      ],
      "metadata": {
        "id": "RhxI8MBFQogs",
        "colab": {
          "base_uri": "https://localhost:8080/"
        },
        "outputId": "f5be3e16-66ff-4b30-fa8c-165d923ada39"
      },
      "execution_count": null,
      "outputs": [
        {
          "output_type": "stream",
          "name": "stdout",
          "text": [
            "Mengambil value urutan PERTAMA: 1\n",
            "Mengambil value urutan KEDUA: 2\n",
            "Mengambil value urutan KETIGA: 3\n",
            "==== katanya biar ada pembatas diantara kita =====\n",
            "Saya mau ambil urutan kedua: Katanya integer aja?\n",
            "Saya mau ambil urutan terakhir/keempat: 100.549373\n"
          ]
        }
      ]
    },
    {
      "cell_type": "code",
      "source": [
        "# Multiple Index is also allowed inside a list\n",
        "list_multiple = [\"bumi\",        \"itu\",       \"datar\",       [\"bagi\",\"orang\",\"awam\"]      ]\n",
        "list_multiple[1]"
      ],
      "metadata": {
        "id": "wVRdMooTSxU9",
        "colab": {
          "base_uri": "https://localhost:8080/",
          "height": 36
        },
        "outputId": "da35cda9-24fc-486b-a917-9bf6c3ac1109"
      },
      "execution_count": null,
      "outputs": [
        {
          "output_type": "execute_result",
          "data": {
            "text/plain": [
              "'itu'"
            ],
            "application/vnd.google.colaboratory.intrinsic+json": {
              "type": "string"
            }
          },
          "metadata": {},
          "execution_count": 29
        }
      ]
    },
    {
      "cell_type": "markdown",
      "source": [
        "### More Common List Functions\n",
        "\n",
        "| Fungsi | Deskripsi | Contoh |\n",
        "| --- | --- | -- |\n",
        "| len(x) | Menghitung jumlah objek didalam list | len([1,2,3]) == 3 |\n",
        "| sum(x) | Menghitung penjumlahan semua objek numerikal didalam list | sum([1,2,3]) == 6 |\n",
        "| x.append(y) | Menambah objek Y pada urutan terakhir kedalam list X | x.append(5) |\n",
        "| x.remove(y) | Menghapus indeks ke-y dalam list X | x.remove(5) |\n",
        "| del x[y] | Menghapus indeks ke-y dalam list X | del x[5] |"
      ],
      "metadata": {
        "id": "dzYjxpZCS_aF"
      }
    },
    {
      "cell_type": "code",
      "source": [
        "# Common basic function in List\n",
        "listku = [1,2,3,4,5]\n",
        "\n",
        "# Calculate how many objects inside a list\n",
        "print(len(listku)) # length(listku)\n",
        "\n",
        "# Sum all the numerical values inside a list\n",
        "print(sum(listku)) # sum(listku)\n",
        "\n",
        "# Add new value to list\n",
        "listku.append(50) # We try to insert 50\n",
        "print(listku)\n",
        "\n",
        "# Delete an existing value\n",
        "del listku[3] # We try to delete 4\n",
        "print(listku)"
      ],
      "metadata": {
        "id": "tPGEZtIaS-s1",
        "colab": {
          "base_uri": "https://localhost:8080/"
        },
        "outputId": "1417a8e0-8b13-47ed-e503-b80028a93fda"
      },
      "execution_count": null,
      "outputs": [
        {
          "output_type": "stream",
          "name": "stdout",
          "text": [
            "5\n",
            "15\n",
            "[1, 2, 3, 4, 5, 50]\n",
            "[1, 2, 3, 5, 50]\n"
          ]
        }
      ]
    },
    {
      "cell_type": "markdown",
      "source": [
        "### Tuple in Python\n",
        "\n",
        "Sifatnya dengan list, namun bersifat **immutable** alias tidak bisa direplace valuenya dengan value baru, kemudian menggunakan **( )**. Namun, secara processing time lebih cepat daripada list.\n",
        "\n",
        "<img src=\"https://pynative.com/wp-content/uploads/2021/02/python-tuple.jpg\">"
      ],
      "metadata": {
        "id": "ToYIUyBiTOKq"
      }
    },
    {
      "cell_type": "code",
      "source": [
        "tuple_2 = (100,\"Katanya integer aja?\", True, 100.549373, True)\n",
        "print(\"Saya mau ambil urutan kedua:\", tuple_2[1])\n",
        "print(\"Saya mau ambil urutan terakhir/kelima:\", tuple_2[4])"
      ],
      "metadata": {
        "id": "iXTwnoOQTSbD",
        "colab": {
          "base_uri": "https://localhost:8080/"
        },
        "outputId": "8ef2f650-39a9-42c8-a6b6-1fd11f0a0829"
      },
      "execution_count": null,
      "outputs": [
        {
          "output_type": "stream",
          "name": "stdout",
          "text": [
            "Saya mau ambil urutan kedua: Katanya integer aja?\n",
            "Saya mau ambil urutan terakhir/kelima: True\n"
          ]
        }
      ]
    },
    {
      "cell_type": "markdown",
      "source": [
        "### Set in Python\n",
        "\n",
        "Sifatnya dengan list, namun bersifat **unique** alias value didalam *set* akan bersifat unik/distinct, kemudian menggunakan **{ }**. Apabila digunakan kepada container data type, maka akan mengambil unique value dan sort secara ascending.\n",
        "\n",
        "<img src=\"https://pynative.com/wp-content/uploads/2021/03/python-sets.jpg\">"
      ],
      "metadata": {
        "id": "jWpzbtzuTXIS"
      }
    },
    {
      "cell_type": "code",
      "source": [
        "# Create new set\n",
        "value_set = {5,43,2,1,6,2,3,1,6,3,6}\n",
        "print(value_set)"
      ],
      "metadata": {
        "id": "Ws5BgizTTVPz",
        "colab": {
          "base_uri": "https://localhost:8080/"
        },
        "outputId": "0d49cb74-a57f-49f5-a6d7-95d81cad47db"
      },
      "execution_count": null,
      "outputs": [
        {
          "output_type": "stream",
          "name": "stdout",
          "text": [
            "{1, 2, 3, 5, 6, 43}\n"
          ]
        }
      ]
    },
    {
      "cell_type": "code",
      "source": [
        "# \"susilo bambang yudhoyono\" and \"jokowi\" appears 2 times\n",
        "preseiden_era_reformasi = [\"habibi\",\"abdurrahman wahid\",\"megawati\",\"susilo bambang yudhoyono\",\"susilo bambang yudhoyono\",\"jokowi\",\"jokowi\"]\n",
        "\n",
        "# Get unique only and sort in ascending:\n",
        "preseiden_era_reformasi = set(preseiden_era_reformasi)\n",
        "preseiden_era_reformasi"
      ],
      "metadata": {
        "id": "fUelbhijTcJL",
        "colab": {
          "base_uri": "https://localhost:8080/"
        },
        "outputId": "ded0560f-8490-4ea7-ed1b-292f53ea7ee6"
      },
      "execution_count": null,
      "outputs": [
        {
          "output_type": "execute_result",
          "data": {
            "text/plain": [
              "{'abdurrahman wahid',\n",
              " 'habibi',\n",
              " 'jokowi',\n",
              " 'megawati',\n",
              " 'susilo bambang yudhoyono'}"
            ]
          },
          "metadata": {},
          "execution_count": 36
        }
      ]
    },
    {
      "cell_type": "code",
      "source": [
        "\"soeharto\" in preseiden_era_reformasi"
      ],
      "metadata": {
        "id": "siSN2wq7Tok3",
        "colab": {
          "base_uri": "https://localhost:8080/"
        },
        "outputId": "29df10f5-a0de-4aee-9b7c-ca23e7a4109d"
      },
      "execution_count": null,
      "outputs": [
        {
          "output_type": "execute_result",
          "data": {
            "text/plain": [
              "False"
            ]
          },
          "metadata": {},
          "execution_count": 37
        }
      ]
    },
    {
      "cell_type": "code",
      "source": [
        "for presiden in preseiden_era_reformasi:\n",
        "  print(presiden)"
      ],
      "metadata": {
        "id": "2nKOl_TpTwU8",
        "colab": {
          "base_uri": "https://localhost:8080/"
        },
        "outputId": "b0bee05d-1723-4435-f62b-5c5b0d06c424"
      },
      "execution_count": null,
      "outputs": [
        {
          "output_type": "stream",
          "name": "stdout",
          "text": [
            "susilo bambang yudhoyono\n",
            "abdurrahman wahid\n",
            "megawati\n",
            "habibi\n",
            "jokowi\n"
          ]
        }
      ]
    },
    {
      "cell_type": "code",
      "source": [
        "sorted(preseiden_era_reformasi)"
      ],
      "metadata": {
        "id": "v7s1DMavEcml",
        "colab": {
          "base_uri": "https://localhost:8080/"
        },
        "outputId": "f5022723-2361-41c3-f310-158690e5b297"
      },
      "execution_count": null,
      "outputs": [
        {
          "output_type": "execute_result",
          "data": {
            "text/plain": [
              "['abdurrahman wahid',\n",
              " 'habibi',\n",
              " 'jokowi',\n",
              " 'megawati',\n",
              " 'susilo bambang yudhoyono']"
            ]
          },
          "metadata": {},
          "execution_count": 39
        }
      ]
    },
    {
      "cell_type": "markdown",
      "source": [
        "### Dictionary in Python\n",
        "\n",
        "Struktur data yang menyerupai loker penyimpanan, setiap kotak diloker dapat diisi apapun tergantung kunci/penamaan yang digunakan (key and value). Tipe data ini sering digunakan untuk membuat tabel seperti tabel excel (kolom dan baris)\n",
        "\n",
        "<img src=\"https://pynative.com/wp-content/uploads/2021/02/dictionaries-in-python.jpg\">"
      ],
      "metadata": {
        "id": "I4tIX6FdT_Ij"
      }
    },
    {
      "cell_type": "code",
      "execution_count": null,
      "metadata": {
        "colab": {
          "base_uri": "https://localhost:8080/"
        },
        "id": "GssgF_XFflRc",
        "outputId": "6607acb3-75b2-4b96-8726-5c802e5128c6"
      },
      "outputs": [
        {
          "output_type": "stream",
          "name": "stdout",
          "text": [
            "{'nama': 'Rois', 'pekerjaan': 'Data engineer', 'tinggi': 172}\n",
            "Rois\n"
          ]
        }
      ],
      "source": [
        "profil = {\n",
        "  \"nama\": \"Rois\",\n",
        "  \"pekerjaan\": \"Data engineer\",\n",
        "  \"tinggi\": 172\n",
        "}\n",
        "print(profil)\n",
        "print(profil[\"nama\"])"
      ]
    },
    {
      "cell_type": "code",
      "source": [
        "profil[\"tinggal\"] = \"Sukamiskin\"\n",
        "print(profil)"
      ],
      "metadata": {
        "colab": {
          "base_uri": "https://localhost:8080/"
        },
        "id": "qARDqKiig-cN",
        "outputId": "4b595c3b-006e-4571-bae0-6ae1a3a850c7"
      },
      "execution_count": null,
      "outputs": [
        {
          "output_type": "stream",
          "name": "stdout",
          "text": [
            "{'nama': 'Rois', 'pekerjaan': 'Data engineer', 'tinggi': 172, 'tinggal': 'Sukamiskin'}\n"
          ]
        }
      ]
    },
    {
      "cell_type": "code",
      "source": [
        "profil[\"nama\"] = \"Sukakaya\"\n",
        "print(profil)"
      ],
      "metadata": {
        "colab": {
          "base_uri": "https://localhost:8080/"
        },
        "id": "euQkWjFgj9QE",
        "outputId": "1e1b4590-7cfb-461b-9a19-eda22c03f58a"
      },
      "execution_count": null,
      "outputs": [
        {
          "output_type": "stream",
          "name": "stdout",
          "text": [
            "{'nama': 'Sukakaya', 'pekerjaan': 'Data engineer', 'tinggi': 172, 'tinggal': 'Sukamiskin'}\n"
          ]
        }
      ]
    },
    {
      "cell_type": "code",
      "source": [
        "for x in profil.values():\n",
        "  print(x)\n",
        "\n",
        "# profil.values()"
      ],
      "metadata": {
        "id": "j0eOl4rUm33n",
        "colab": {
          "base_uri": "https://localhost:8080/"
        },
        "outputId": "74893ca5-8444-4263-a307-931f74b25056"
      },
      "execution_count": null,
      "outputs": [
        {
          "output_type": "stream",
          "name": "stdout",
          "text": [
            "Sukakaya\n",
            "Data engineer\n",
            "172\n",
            "Sukamiskin\n"
          ]
        }
      ]
    },
    {
      "cell_type": "code",
      "source": [
        "for x in profil.keys():\n",
        "  print(x)"
      ],
      "metadata": {
        "id": "LWTiIWm_qGqL",
        "colab": {
          "base_uri": "https://localhost:8080/"
        },
        "outputId": "782791eb-8df0-48e1-9f6d-0c445a5a74c1"
      },
      "execution_count": null,
      "outputs": [
        {
          "output_type": "stream",
          "name": "stdout",
          "text": [
            "nama\n",
            "pekerjaan\n",
            "tinggi\n",
            "tinggal\n"
          ]
        }
      ]
    },
    {
      "cell_type": "code",
      "source": [
        "for x, y in profil.items():\n",
        "  print(\"ini key:\",x, \"ini value:\", y)"
      ],
      "metadata": {
        "id": "SJh677jmqkou",
        "colab": {
          "base_uri": "https://localhost:8080/"
        },
        "outputId": "b67f52ea-e690-48ca-feae-1a7d614ce1cc"
      },
      "execution_count": null,
      "outputs": [
        {
          "output_type": "stream",
          "name": "stdout",
          "text": [
            "ini key: nama ini value: Sukakaya\n",
            "ini key: pekerjaan ini value: Data engineer\n",
            "ini key: tinggi ini value: 172\n",
            "ini key: tinggal ini value: Sukamiskin\n"
          ]
        }
      ]
    },
    {
      "cell_type": "code",
      "source": [
        "for telentang, tengkurep in profil.items():\n",
        "  print(telentang)\n",
        "  print(tengkurep)"
      ],
      "metadata": {
        "id": "wjBVWdY3ru25",
        "colab": {
          "base_uri": "https://localhost:8080/"
        },
        "outputId": "db3615cf-4a64-4088-b125-b7ca9a778a40"
      },
      "execution_count": null,
      "outputs": [
        {
          "output_type": "stream",
          "name": "stdout",
          "text": [
            "nama\n",
            "Sukakaya\n",
            "pekerjaan\n",
            "Data engineer\n",
            "tinggi\n",
            "172\n",
            "tinggal\n",
            "Sukamiskin\n"
          ]
        }
      ]
    },
    {
      "cell_type": "code",
      "source": [
        "profil['skills'] = [\"python\", \"mengolah data\", \"google cloud platform\"]\n",
        "print(profil)"
      ],
      "metadata": {
        "id": "HU3gCRZ4UYnE",
        "colab": {
          "base_uri": "https://localhost:8080/"
        },
        "outputId": "6c22b1e8-6161-4307-d9e2-93450c5af366"
      },
      "execution_count": null,
      "outputs": [
        {
          "output_type": "stream",
          "name": "stdout",
          "text": [
            "{'nama': 'Sukakaya', 'pekerjaan': 'Data engineer', 'tinggi': 172, 'tinggal': 'Sukamiskin', 'skills': ['python', 'mengolah data', 'google cloud platform']}\n"
          ]
        }
      ]
    },
    {
      "cell_type": "code",
      "source": [
        "profil[\"skills\"].append(\"memasak\")\n",
        "print(profil)"
      ],
      "metadata": {
        "colab": {
          "base_uri": "https://localhost:8080/"
        },
        "id": "d0DxToiuUnYg",
        "outputId": "94c4d329-c382-4dae-db97-9eba6ccd843a"
      },
      "execution_count": null,
      "outputs": [
        {
          "output_type": "stream",
          "name": "stdout",
          "text": [
            "{'nama': 'Sukakaya', 'pekerjaan': 'Data engineer', 'tinggi': 172, 'tinggal': 'Sukamiskin', 'skills': ['python', 'mengolah data', 'google cloud platform', 'memasak']}\n"
          ]
        }
      ]
    },
    {
      "cell_type": "code",
      "source": [
        "for i in profil['skills']:\n",
        "  print(i)"
      ],
      "metadata": {
        "id": "44-MXQjiFbp2",
        "colab": {
          "base_uri": "https://localhost:8080/"
        },
        "outputId": "e7022701-2646-4fdf-ab36-10d6a24d6c4c"
      },
      "execution_count": null,
      "outputs": [
        {
          "output_type": "stream",
          "name": "stdout",
          "text": [
            "python\n",
            "mengolah data\n",
            "google cloud platform\n",
            "memasak\n"
          ]
        }
      ]
    },
    {
      "cell_type": "code",
      "source": [],
      "metadata": {
        "id": "kegdjrIdSity"
      },
      "execution_count": null,
      "outputs": []
    },
    {
      "cell_type": "markdown",
      "source": [
        "# Python Function\n",
        "\n",
        "**Covered Topics**\n",
        "- Definition\n",
        "- Example\n",
        "- Exercise"
      ],
      "metadata": {
        "id": "sYESGY207aO5"
      }
    },
    {
      "cell_type": "markdown",
      "source": [
        "Functions help break our program into smaller and modular chunks. As our program grows larger and larger, functions make it more organized and manageable.\n",
        "\n",
        "Furthermore, it avoids repetition and makes code reusable.\n",
        "\n",
        "```\n",
        "def function_name(parameters):   \n",
        "  \"\"\"docstring\"\"\"   \n",
        "  statement(s)\n",
        "```\n"
      ],
      "metadata": {
        "id": "OQrtOc82OVEy"
      }
    },
    {
      "cell_type": "code",
      "source": [
        "def greet(name):\n",
        "  \"\"\"This function greets to\n",
        "  the person passed in as\n",
        "  parameter\"\"\"\n",
        "  print(\"Hello, nama saya \" + name + \". Salam kenal semua!\")"
      ],
      "metadata": {
        "id": "QFhvnLRuOG80"
      },
      "execution_count": null,
      "outputs": []
    },
    {
      "cell_type": "code",
      "source": [
        "greet('Komeng')"
      ],
      "metadata": {
        "colab": {
          "base_uri": "https://localhost:8080/"
        },
        "id": "iR97o-seO_KQ",
        "outputId": "3cf1611c-b54e-4ac3-87d0-b91eacd71a66"
      },
      "execution_count": null,
      "outputs": [
        {
          "output_type": "stream",
          "name": "stdout",
          "text": [
            "Hello, nama saya Komeng. Salam kenal semua!\n"
          ]
        }
      ]
    },
    {
      "cell_type": "code",
      "source": [
        "name = 'anies'\n",
        "print(\"Hello, nama saya \" + name + \". Salam kenal semua!\")\n",
        "name = 'ganjar'\n",
        "print(\"Hello, nama saya \" + name + \". Salam kenal semua!\")\n",
        "name = 'prabowo'\n",
        "print(\"Hello, nama saya \" + name + \". Salam kenal semua!\")"
      ],
      "metadata": {
        "id": "oNrKc5HQ5p6n"
      },
      "execution_count": null,
      "outputs": []
    },
    {
      "cell_type": "code",
      "source": [],
      "metadata": {
        "id": "wILze5PLtJNm"
      },
      "execution_count": null,
      "outputs": []
    },
    {
      "cell_type": "markdown",
      "source": [
        "**The return statement**\n",
        "\n",
        "```\n",
        "def function_name(parameters):   \n",
        "  \"\"\"docstring\"\"\"   \n",
        "  statement(s)\n",
        "\n",
        "  return [expression_list]\n",
        "```\n",
        "\n",
        "This statement can contain expression which gets evaluated and the value is returned.\n",
        "\n",
        "If there is no expression in the statement or the return statement itself is not present inside a function, then the function will return the None object."
      ],
      "metadata": {
        "id": "UzF4h3tlPTID"
      }
    },
    {
      "cell_type": "code",
      "source": [
        "print(greet(\"Komeng\"))"
      ],
      "metadata": {
        "colab": {
          "base_uri": "https://localhost:8080/"
        },
        "id": "L_M2us0ZQK5b",
        "outputId": "723fbc9d-8660-4a8d-a56e-7d3001a0135d"
      },
      "execution_count": null,
      "outputs": [
        {
          "output_type": "stream",
          "name": "stdout",
          "text": [
            "Hello, nama saya Komeng. Salam kenal semua!\n",
            "None\n"
          ]
        }
      ]
    },
    {
      "cell_type": "code",
      "source": [
        "def check_num_1(num):\n",
        "  \"\"\"This function returns the absolute\n",
        "  value of the entered number\"\"\"\n",
        "\n",
        "  if num >= 0:\n",
        "      if num == 0:\n",
        "          print(\"nol\")\n",
        "      else:\n",
        "          print(\"Positif\")\n",
        "  else:\n",
        "      print(\"Negatif\")"
      ],
      "metadata": {
        "id": "E71pSKeOVeVh"
      },
      "execution_count": null,
      "outputs": []
    },
    {
      "cell_type": "code",
      "source": [
        "num = 15\n",
        "a = check_num_1(num)\n",
        "print(a)"
      ],
      "metadata": {
        "id": "5J8PcIQy_fL5"
      },
      "execution_count": null,
      "outputs": []
    },
    {
      "cell_type": "code",
      "source": [
        "def check_num_2(num):\n",
        "  \"\"\"This function returns the absolute\n",
        "  value of the entered number\"\"\"\n",
        "\n",
        "  if num >= 0:\n",
        "      if num == 0:\n",
        "          result = \"nol\"\n",
        "      else:\n",
        "          result = \"Positif\"\n",
        "  else:\n",
        "      result = \"Negatif\"\n",
        "  return result"
      ],
      "metadata": {
        "id": "Qa2bi4BNVrjd"
      },
      "execution_count": null,
      "outputs": []
    },
    {
      "cell_type": "code",
      "source": [
        "num = 15"
      ],
      "metadata": {
        "id": "fjRugoOf_jPj"
      },
      "execution_count": null,
      "outputs": []
    },
    {
      "cell_type": "code",
      "source": [
        "string_1 = \"Jakarta\"\n",
        "\n",
        "result = ''\n",
        "for char in string_1:\n",
        "  if char.isupper():\n",
        "      result += char.lower()\n",
        "  else:\n",
        "      result += char.upper()\n",
        "# print(result)"
      ],
      "metadata": {
        "id": "6KptI1i97jBl"
      },
      "execution_count": null,
      "outputs": []
    },
    {
      "cell_type": "code",
      "source": [
        "string_1 = \"Jakarta\"\n",
        "\n",
        "result = ''\n",
        "for char in string_1:\n",
        "  if char.isupper():\n",
        "      result += char.lower()\n",
        "  else:\n",
        "      result += char.upper()\n",
        "# print(result)\n",
        "\n",
        "string_1 = \"HUrUf aLAy\"\n",
        "\n",
        "result = ''\n",
        "for char in string_1:\n",
        "  if char.isupper():\n",
        "      result += char.lower()\n",
        "  else:\n",
        "      result += char.upper()\n",
        "# print(result)"
      ],
      "metadata": {
        "id": "tLjv8bR27BWr"
      },
      "execution_count": null,
      "outputs": []
    },
    {
      "cell_type": "code",
      "source": [
        "def swap_case(s):\n",
        "    result = ''\n",
        "    for char in s:\n",
        "        if char.isupper():\n",
        "            result += char.lower()\n",
        "        else:\n",
        "            result += char.upper()\n",
        "    return result\n",
        "\n",
        "# test1 = \"Jakarta\"\n",
        "# result1 = swap_case(test1)\n",
        "# print(result1)\n",
        "\n",
        "# test2 = \"HUrUf aLAy\"\n",
        "# result2 = swap_case(test2)\n",
        "# print(result2)"
      ],
      "metadata": {
        "id": "jKVW2ycT7giR"
      },
      "execution_count": null,
      "outputs": []
    },
    {
      "cell_type": "markdown",
      "source": [
        "**Scope and Lifetime of variables**\n",
        "\n",
        "Scope of a variable is the portion of a program where the variable is recognized. Parameters and variables defined inside a function is not visible from outside. Hence, they have a local scope.\n",
        "\n",
        "Lifetime of a variable is the period throughout which the variable exits in the memory. The lifetime of variables inside a function is as long as the function executes.\n",
        "\n",
        "They are destroyed once we return from the function. Hence, a function does not remember the value of a variable from its previous calls.\n",
        "\n",
        "Here is an example to illustrate the scope of a variable inside a function."
      ],
      "metadata": {
        "id": "9_pm76trR0GJ"
      }
    },
    {
      "cell_type": "code",
      "source": [
        "def swap_case(s):\n",
        "    result = ''\n",
        "    for char in s:\n",
        "        if char.isupper():\n",
        "            result += char.lower()\n",
        "        else:\n",
        "            result += char.upper()\n",
        "    print(f\"result inside function, {result}\")\n",
        "\n",
        "# result = \"bukan huruf alay\"\n",
        "# swap_case(\"HUrUf aLAy\")\n",
        "# print(f\"result outside function, {result}\")"
      ],
      "metadata": {
        "id": "4tmz7OslSNcT",
        "colab": {
          "base_uri": "https://localhost:8080/"
        },
        "outputId": "9d6f3da0-aff8-48b2-9875-2616e6eaed35"
      },
      "execution_count": null,
      "outputs": [
        {
          "output_type": "stream",
          "name": "stdout",
          "text": [
            "result inside function, huRuF AlaY\n",
            "result outside function, bukan huruf alay\n"
          ]
        }
      ]
    },
    {
      "cell_type": "markdown",
      "source": [
        "**Default Arguments**\n",
        "\n",
        "Function arguments can have default values in Python. We can provide a default value to an argument by using the assignment operator (=).\n",
        "\n",
        "Here is an example."
      ],
      "metadata": {
        "id": "GH5H5vmj4AAh"
      }
    },
    {
      "cell_type": "code",
      "source": [
        "def greet(name, message=\"semua untuk kebaikan rakyat\"):\n",
        "  \"\"\"This function greets to\n",
        "  the person with default argument\"\"\"\n",
        "  print(f\"Hello, nama saya {name}. \\npesan: {message}\\n\")"
      ],
      "metadata": {
        "id": "OvRvY2zg4Zqr"
      },
      "execution_count": null,
      "outputs": []
    },
    {
      "cell_type": "code",
      "source": [
        "greet('ngabalin')"
      ],
      "metadata": {
        "id": "eS101aOX7CGr"
      },
      "execution_count": null,
      "outputs": []
    },
    {
      "cell_type": "code",
      "source": [
        "# greet('kang kopi', 'lu punya duit, lu punya kuasa')\n",
        "# greet('jamal', message='masak aer, biar mateng')\n",
        "# greet(name='susi pudjiastuti', message='tenggelamkan!')"
      ],
      "metadata": {
        "id": "9FFt45EZ4lIg"
      },
      "execution_count": null,
      "outputs": []
    },
    {
      "cell_type": "markdown",
      "source": [
        "### Exercise\n",
        "\n",
        "You have given a Python list. Write a program to count 2 in a list and return the item.\n",
        "Example:\n",
        "\n",
        "Input:\n",
        "\n",
        "`[1, 2, 3, 4, 3, 4, 4, 4, 2, 2, 7, 10]`\n",
        "\n",
        "Output:\n",
        "\n",
        "`3`\n"
      ],
      "metadata": {
        "id": "QlE4BtHHSjt0"
      }
    }
  ]
}