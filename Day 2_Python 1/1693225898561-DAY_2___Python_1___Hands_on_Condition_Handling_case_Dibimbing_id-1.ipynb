{
  "nbformat": 4,
  "nbformat_minor": 0,
  "metadata": {
    "colab": {
      "provenance": []
    },
    "kernelspec": {
      "name": "python3",
      "display_name": "Python 3"
    },
    "language_info": {
      "name": "python"
    }
  },
  "cells": [
    {
      "cell_type": "code",
      "source": [
        "vocals = \"a,i,u,e,o\"\n",
        "hasil = \"\"\n",
        "text = input(\"masukkan text :\")\n",
        "for char in text :\n",
        "  if char in vocals:\n",
        "    hasil += 'a'\n",
        "  else :\n",
        "    hasil += char\n",
        "\n",
        "\n",
        "print(\"hasil : \" + hasil)"
      ],
      "metadata": {
        "colab": {
          "base_uri": "https://localhost:8080/"
        },
        "id": "b5c8Pi02LuCi",
        "outputId": "7b59b423-ece7-472b-ed0e-8121565fd8ad"
      },
      "execution_count": null,
      "outputs": [
        {
          "output_type": "stream",
          "name": "stdout",
          "text": [
            "masukkan text :balonku ada lima\n",
            "hasil : balanka ada lama\n"
          ]
        }
      ]
    },
    {
      "cell_type": "code",
      "execution_count": 1,
      "metadata": {
        "colab": {
          "base_uri": "https://localhost:8080/"
        },
        "id": "xlzz17hayeEo",
        "outputId": "41c8afe4-574d-4314-b7a8-1480b39a4ec0"
      },
      "outputs": [
        {
          "output_type": "stream",
          "name": "stdout",
          "text": [
            "Enter the total number of classes held: 15\n",
            "Enter the number of students: 3\n",
            "Enter the name of student 1: Adnan\n",
            "Enter the name of student 2: Fadhil\n",
            "Enter the name of student 3: Yaser\n",
            "Enter the attendance for Adnan: 3\n",
            "Enter the attendance for Fadhil: 3\n",
            "Enter the attendance for Yaser: 1\n",
            "Kehadiran Adnan kurang dari 75%, tidak dapat mengikuti ujian\n",
            "Kehadiran Fadhil kurang dari 75%, tidak dapat mengikuti ujian\n",
            "Kehadiran Yaser kurang dari 75%, tidak dapat mengikuti ujian\n"
          ]
        }
      ],
      "source": [
        "class_held = int(input(\"Enter the total number of classes held: \"))\n",
        "\n",
        "student_count = int(input(\"Enter the number of students: \"))\n",
        "students = []\n",
        "\n",
        "for i in range(student_count):\n",
        "    student_name = input(f\"Enter the name of student {i + 1}: \")\n",
        "    students.append(student_name)\n",
        "\n",
        "class_attended = []\n",
        "for student in students:\n",
        "    attendance = int(input(f\"Enter the attendance for {student}: \"))\n",
        "    class_attended.append(attendance)\n",
        "\n",
        "min_attendance_percentage = 75\n",
        "min_attendance = (min_attendance_percentage / 100) * class_held\n",
        "\n",
        "for i in range(len(students)):\n",
        "    attendance = class_attended[i]\n",
        "    if attendance >= min_attendance:\n",
        "        print(f\"Kehadiran {students[i]} lebih dari {min_attendance_percentage}%, dapat mengikuti ujian\")\n",
        "    else:\n",
        "        print(f\"Kehadiran {students[i]} kurang dari {min_attendance_percentage}%, tidak dapat mengikuti ujian\")\n"
      ]
    },
    {
      "cell_type": "code",
      "source": [],
      "metadata": {
        "id": "0MLAOWDROkJ8"
      },
      "execution_count": null,
      "outputs": []
    }
  ]
}