{
  "nbformat": 4,
  "nbformat_minor": 0,
  "metadata": {
    "colab": {
      "provenance": []
    },
    "kernelspec": {
      "name": "python3",
      "display_name": "Python 3"
    },
    "language_info": {
      "name": "python"
    }
  },
  "cells": [
    {
      "cell_type": "code",
      "source": [
        "from IPython.display import clear_output"
      ],
      "metadata": {
        "id": "-imGDf4G6nBC"
      },
      "execution_count": null,
      "outputs": []
    },
    {
      "cell_type": "code",
      "source": [
        "class BangunDatar:\n",
        "  def __init__(self,jenis):\n",
        "    self.jenis = jenis\n",
        "    self.luas = 0.0\n",
        "  def hitung_luas(self):\n",
        "    pass"
      ],
      "metadata": {
        "id": "yPO4cADy0ylG"
      },
      "execution_count": null,
      "outputs": []
    },
    {
      "cell_type": "code",
      "source": [
        "class Persegi(BangunDatar):\n",
        "  def __init__(self,sisi):\n",
        "    super().__init__(\"Persegi\")\n",
        "    self.sisi = sisi\n",
        "  def hitung_luas(self):\n",
        "    self.luas = self.sisi*self.sisi"
      ],
      "metadata": {
        "id": "syEUKd9Z1eVr"
      },
      "execution_count": null,
      "outputs": []
    },
    {
      "cell_type": "code",
      "source": [
        "class PersegiPanjang(BangunDatar):\n",
        "  def __init__(self,panjang,lebar):\n",
        "    super().__init__(\"Persegi Panjang\")\n",
        "    self.panjang = panjang\n",
        "    self.lebar = lebar\n",
        "  def hitung_luas(self):\n",
        "    self.luas = self.panjang*self.lebar"
      ],
      "metadata": {
        "id": "IqQIGZkZ18_t"
      },
      "execution_count": null,
      "outputs": []
    },
    {
      "cell_type": "code",
      "source": [
        "class Segitiga(BangunDatar):\n",
        "  def __init__(self,alas,tinggi):\n",
        "    super().__init__(\"Segitiga\")\n",
        "    self.alas = alas\n",
        "    self.tinggi = tinggi\n",
        "  def hitung_luas(self):\n",
        "    self.luas = self.alas*self.tinggi"
      ],
      "metadata": {
        "id": "B5FM7qpz2ZL1"
      },
      "execution_count": null,
      "outputs": []
    },
    {
      "cell_type": "code",
      "source": [
        "class Lingkaran(BangunDatar):\n",
        "  def __init__(self,jari_jari):\n",
        "    super().__init__(\"Lingkaran\")\n",
        "    self.jari_jari = jari_jari\n",
        "  def hitung_luas(self):\n",
        "    self.luas = 3.14*self.jari_jari*self.jari_jari\n"
      ],
      "metadata": {
        "id": "USKURnyw2s_6"
      },
      "execution_count": null,
      "outputs": []
    },
    {
      "cell_type": "code",
      "source": [
        "class Trapesium(BangunDatar):\n",
        "  def __init__(self,alas_1,alas_2,tinggi):\n",
        "    super().__init__(\"Trapesium\")\n",
        "    self.alas_1 = alas_1\n",
        "    self.alas_2 = alas_2\n",
        "    self.tinggi = tinggi\n",
        "  def hitung_luas(self):\n",
        "    self.luas = (self.alas_1+self.alas_2)*self.tinggi/2"
      ],
      "metadata": {
        "id": "FhNEhPUg3GE8"
      },
      "execution_count": null,
      "outputs": []
    },
    {
      "cell_type": "code",
      "source": [
        "def input_angka(pilihan):\n",
        "  while True:\n",
        "    try:\n",
        "      nomor = float(input(pilihan))\n",
        "      return nomor\n",
        "    except ValueError:\n",
        "       print(\"Input yang Anda masukkan tidak valid. Mohon masukkan angka.\")\n"
      ],
      "metadata": {
        "id": "m1EP0pgG4QsX"
      },
      "execution_count": null,
      "outputs": []
    },
    {
      "cell_type": "code",
      "source": [
        "def main():\n",
        "    bangun_datar_list = []\n",
        "    menu_pilihan = {\n",
        "        1: \"Persegi\",\n",
        "        2: \"Persegi Panjang\",\n",
        "        3: \"Segitiga\",\n",
        "        4: \"Lingkaran\",\n",
        "        5: \"Trapesium\"\n",
        "    }\n",
        "    urutan_luas_list = []\n",
        "\n",
        "    while True:\n",
        "        clear_output(wait=True)\n",
        "        print(\"========== MENU BANGUN DATAR ==========\")\n",
        "\n",
        "        for pilihan, jenis in menu_pilihan.items():\n",
        "            print(f\"{pilihan}. {jenis}\")\n",
        "\n",
        "        if not menu_pilihan:\n",
        "            break\n",
        "\n",
        "        pilihan = input_angka(\"Pilih jenis bangun datar atau 0 untuk keluar: \")\n",
        "\n",
        "        if pilihan in menu_pilihan:\n",
        "            jenis_bangun = menu_pilihan[pilihan]\n",
        "            print(f\"Jenis bangun datar yang dipilih: {jenis_bangun}\")\n",
        "\n",
        "            if pilihan == 1:\n",
        "                sisi = input_angka(\"Masukkan nilai sisi: \")\n",
        "                bangun = Persegi(sisi)\n",
        "            elif pilihan == 2:\n",
        "                panjang = input_angka(\"Masukkan nilai panjang: \")\n",
        "                lebar = input_angka(\"Masukkan nilai lebar: \")\n",
        "                bangun = PersegiPanjang(panjang, lebar)\n",
        "            elif pilihan == 3:\n",
        "                alas = input_angka(\"Masukkan nilai alas: \")\n",
        "                tinggi = input_angka(\"Masukkan nilai tinggi: \")\n",
        "                bangun = Segitiga(alas, tinggi)\n",
        "            elif pilihan == 4:\n",
        "                jari_jari = input_angka(\"Masukkan nilai jari-jari: \")\n",
        "                bangun = Lingkaran(jari_jari)\n",
        "            elif pilihan == 5:\n",
        "                alas1 = input_angka(\"Masukkan nilai alas bawah: \")\n",
        "                alas2 = input_angka(\"Masukkan nilai alas atas: \")\n",
        "                tinggi = input_angka(\"Masukkan nilai tinggi: \")\n",
        "                bangun = Trapesium(alas1, alas2, tinggi)\n",
        "\n",
        "            bangun.hitung_luas()\n",
        "            bangun_datar_list.append(bangun)\n",
        "\n",
        "            urutan_luas_list.append((jenis_bangun, bangun.luas))\n",
        "\n",
        "            del menu_pilihan[pilihan]\n",
        "\n",
        "        else:\n",
        "            print(\"Pilihan tidak valid.\")\n",
        "\n",
        "    clear_output(wait=True)\n",
        "\n",
        "    if urutan_luas_list:\n",
        "        print(\"\\nUrutan luas bangun datar:\")\n",
        "        urutan_luas_list.sort(key=lambda x: x[1])\n",
        "        for jenis, luas in urutan_luas_list:\n",
        "            print(f\"{jenis}: {luas}\")\n",
        "\n",
        "        print(\"\\nTotal luas bangun datar:\")\n",
        "        total_luas = sum(bangun.luas for bangun in bangun_datar_list)\n",
        "        print(f\"Total luas bangun datar: {total_luas}\")\n",
        "\n",
        "\n",
        "        urutan_luas_str = \", \".join(f\"{jenis}({luas})\" for jenis, luas in urutan_luas_list)\n",
        "        print(f\"\\nUrutan Luas: {urutan_luas_str}\")\n",
        "\n"
      ],
      "metadata": {
        "id": "lkb-9KYe4-Ln"
      },
      "execution_count": null,
      "outputs": []
    },
    {
      "cell_type": "code",
      "source": [
        "if __name__ == \"__main__\":\n",
        "    main()"
      ],
      "metadata": {
        "colab": {
          "base_uri": "https://localhost:8080/",
          "height": 444
        },
        "id": "8aT-0TjlJug_",
        "outputId": "0cb7c202-6499-4549-9f0c-2229b67ff681"
      },
      "execution_count": null,
      "outputs": [
        {
          "output_type": "stream",
          "name": "stdout",
          "text": [
            "========== MENU BANGUN DATAR ==========\n",
            "1. Persegi\n",
            "2. Persegi Panjang\n",
            "3. Segitiga\n",
            "4. Lingkaran\n",
            "5. Trapesium\n"
          ]
        },
        {
          "output_type": "error",
          "ename": "KeyboardInterrupt",
          "evalue": "ignored",
          "traceback": [
            "\u001b[0;31m---------------------------------------------------------------------------\u001b[0m",
            "\u001b[0;31mKeyboardInterrupt\u001b[0m                         Traceback (most recent call last)",
            "\u001b[0;32m<ipython-input-51-972361fa1b80>\u001b[0m in \u001b[0;36m<cell line: 1>\u001b[0;34m()\u001b[0m\n\u001b[1;32m      1\u001b[0m \u001b[0;32mif\u001b[0m \u001b[0m__name__\u001b[0m \u001b[0;34m==\u001b[0m \u001b[0;34m\"__main__\"\u001b[0m\u001b[0;34m:\u001b[0m\u001b[0;34m\u001b[0m\u001b[0;34m\u001b[0m\u001b[0m\n\u001b[0;32m----> 2\u001b[0;31m     \u001b[0mmain\u001b[0m\u001b[0;34m(\u001b[0m\u001b[0;34m)\u001b[0m\u001b[0;34m\u001b[0m\u001b[0;34m\u001b[0m\u001b[0m\n\u001b[0m",
            "\u001b[0;32m<ipython-input-50-db6b56c359a4>\u001b[0m in \u001b[0;36mmain\u001b[0;34m()\u001b[0m\n\u001b[1;32m     20\u001b[0m             \u001b[0;32mbreak\u001b[0m\u001b[0;34m\u001b[0m\u001b[0;34m\u001b[0m\u001b[0m\n\u001b[1;32m     21\u001b[0m \u001b[0;34m\u001b[0m\u001b[0m\n\u001b[0;32m---> 22\u001b[0;31m         \u001b[0mpilihan\u001b[0m \u001b[0;34m=\u001b[0m \u001b[0minput_angka\u001b[0m\u001b[0;34m(\u001b[0m\u001b[0;34m\"Pilih jenis bangun datar atau 0 untuk keluar: \"\u001b[0m\u001b[0;34m)\u001b[0m\u001b[0;34m\u001b[0m\u001b[0;34m\u001b[0m\u001b[0m\n\u001b[0m\u001b[1;32m     23\u001b[0m \u001b[0;34m\u001b[0m\u001b[0m\n\u001b[1;32m     24\u001b[0m         \u001b[0;32mif\u001b[0m \u001b[0mpilihan\u001b[0m \u001b[0;32min\u001b[0m \u001b[0mmenu_pilihan\u001b[0m\u001b[0;34m:\u001b[0m\u001b[0;34m\u001b[0m\u001b[0;34m\u001b[0m\u001b[0m\n",
            "\u001b[0;32m<ipython-input-48-f4e8cd3e70c8>\u001b[0m in \u001b[0;36minput_angka\u001b[0;34m(prompt)\u001b[0m\n\u001b[1;32m      8\u001b[0m     \u001b[0;32mwhile\u001b[0m \u001b[0;32mTrue\u001b[0m\u001b[0;34m:\u001b[0m\u001b[0;34m\u001b[0m\u001b[0;34m\u001b[0m\u001b[0m\n\u001b[1;32m      9\u001b[0m         \u001b[0;32mtry\u001b[0m\u001b[0;34m:\u001b[0m\u001b[0;34m\u001b[0m\u001b[0;34m\u001b[0m\u001b[0m\n\u001b[0;32m---> 10\u001b[0;31m             \u001b[0mangka\u001b[0m \u001b[0;34m=\u001b[0m \u001b[0mint\u001b[0m\u001b[0;34m(\u001b[0m\u001b[0minput\u001b[0m\u001b[0;34m(\u001b[0m\u001b[0mprompt\u001b[0m\u001b[0;34m)\u001b[0m\u001b[0;34m)\u001b[0m\u001b[0;34m\u001b[0m\u001b[0;34m\u001b[0m\u001b[0m\n\u001b[0m\u001b[1;32m     11\u001b[0m             \u001b[0;32mreturn\u001b[0m \u001b[0mangka\u001b[0m\u001b[0;34m\u001b[0m\u001b[0;34m\u001b[0m\u001b[0m\n\u001b[1;32m     12\u001b[0m         \u001b[0;32mexcept\u001b[0m \u001b[0mValueError\u001b[0m\u001b[0;34m:\u001b[0m\u001b[0;34m\u001b[0m\u001b[0;34m\u001b[0m\u001b[0m\n",
            "\u001b[0;32m/usr/local/lib/python3.10/dist-packages/ipykernel/kernelbase.py\u001b[0m in \u001b[0;36mraw_input\u001b[0;34m(self, prompt)\u001b[0m\n\u001b[1;32m    849\u001b[0m                 \u001b[0;34m\"raw_input was called, but this frontend does not support input requests.\"\u001b[0m\u001b[0;34m\u001b[0m\u001b[0;34m\u001b[0m\u001b[0m\n\u001b[1;32m    850\u001b[0m             )\n\u001b[0;32m--> 851\u001b[0;31m         return self._input_request(str(prompt),\n\u001b[0m\u001b[1;32m    852\u001b[0m             \u001b[0mself\u001b[0m\u001b[0;34m.\u001b[0m\u001b[0m_parent_ident\u001b[0m\u001b[0;34m,\u001b[0m\u001b[0;34m\u001b[0m\u001b[0;34m\u001b[0m\u001b[0m\n\u001b[1;32m    853\u001b[0m             \u001b[0mself\u001b[0m\u001b[0;34m.\u001b[0m\u001b[0m_parent_header\u001b[0m\u001b[0;34m,\u001b[0m\u001b[0;34m\u001b[0m\u001b[0;34m\u001b[0m\u001b[0m\n",
            "\u001b[0;32m/usr/local/lib/python3.10/dist-packages/ipykernel/kernelbase.py\u001b[0m in \u001b[0;36m_input_request\u001b[0;34m(self, prompt, ident, parent, password)\u001b[0m\n\u001b[1;32m    893\u001b[0m             \u001b[0;32mexcept\u001b[0m \u001b[0mKeyboardInterrupt\u001b[0m\u001b[0;34m:\u001b[0m\u001b[0;34m\u001b[0m\u001b[0;34m\u001b[0m\u001b[0m\n\u001b[1;32m    894\u001b[0m                 \u001b[0;31m# re-raise KeyboardInterrupt, to truncate traceback\u001b[0m\u001b[0;34m\u001b[0m\u001b[0;34m\u001b[0m\u001b[0m\n\u001b[0;32m--> 895\u001b[0;31m                 \u001b[0;32mraise\u001b[0m \u001b[0mKeyboardInterrupt\u001b[0m\u001b[0;34m(\u001b[0m\u001b[0;34m\"Interrupted by user\"\u001b[0m\u001b[0;34m)\u001b[0m \u001b[0;32mfrom\u001b[0m \u001b[0;32mNone\u001b[0m\u001b[0;34m\u001b[0m\u001b[0;34m\u001b[0m\u001b[0m\n\u001b[0m\u001b[1;32m    896\u001b[0m             \u001b[0;32mexcept\u001b[0m \u001b[0mException\u001b[0m \u001b[0;32mas\u001b[0m \u001b[0me\u001b[0m\u001b[0;34m:\u001b[0m\u001b[0;34m\u001b[0m\u001b[0;34m\u001b[0m\u001b[0m\n\u001b[1;32m    897\u001b[0m                 \u001b[0mself\u001b[0m\u001b[0;34m.\u001b[0m\u001b[0mlog\u001b[0m\u001b[0;34m.\u001b[0m\u001b[0mwarning\u001b[0m\u001b[0;34m(\u001b[0m\u001b[0;34m\"Invalid Message:\"\u001b[0m\u001b[0;34m,\u001b[0m \u001b[0mexc_info\u001b[0m\u001b[0;34m=\u001b[0m\u001b[0;32mTrue\u001b[0m\u001b[0;34m)\u001b[0m\u001b[0;34m\u001b[0m\u001b[0;34m\u001b[0m\u001b[0m\n",
            "\u001b[0;31mKeyboardInterrupt\u001b[0m: Interrupted by user"
          ]
        }
      ]
    }
  ]
}